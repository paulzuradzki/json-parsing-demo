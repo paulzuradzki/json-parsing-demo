{
 "cells": [
  {
   "cell_type": "markdown",
   "metadata": {},
   "source": [
    "### Beginner introduction on dictionaries\n",
    "\n",
    "This is a supplement to the JSON parsing notebook for beginners."
   ]
  },
  {
   "cell_type": "code",
   "execution_count": 1,
   "metadata": {},
   "outputs": [
    {
     "data": {
      "text/plain": [
       "{'a': 'ay', 'b': 'bee', 'c': 'see'}"
      ]
     },
     "execution_count": 1,
     "metadata": {},
     "output_type": "execute_result"
    }
   ],
   "source": [
    "key_val_pairs = {'a': 'ay', 'b': 'bee', 'c': 'see'}\n",
    "key_val_pairs"
   ]
  },
  {
   "cell_type": "code",
   "execution_count": 2,
   "metadata": {},
   "outputs": [
    {
     "name": "stdout",
     "output_type": "stream",
     "text": [
      "ay\n",
      "bee\n",
      "see\n"
     ]
    }
   ],
   "source": [
    "# selecting by key name (indexing)\n",
    "\n",
    "print(key_val_pairs['a'])\n",
    "print(key_val_pairs['b'])\n",
    "print(key_val_pairs['c'])"
   ]
  },
  {
   "cell_type": "code",
   "execution_count": 3,
   "metadata": {},
   "outputs": [
    {
     "data": {
      "text/plain": [
       "dict_keys(['a', 'b', 'c'])"
      ]
     },
     "execution_count": 3,
     "metadata": {},
     "output_type": "execute_result"
    }
   ],
   "source": [
    "# get keys\n",
    "key_val_pairs.keys()"
   ]
  },
  {
   "cell_type": "code",
   "execution_count": 4,
   "metadata": {},
   "outputs": [
    {
     "data": {
      "text/plain": [
       "dict_values(['ay', 'bee', 'see'])"
      ]
     },
     "execution_count": 4,
     "metadata": {},
     "output_type": "execute_result"
    }
   ],
   "source": [
    "# get values\n",
    "key_val_pairs.values()"
   ]
  },
  {
   "cell_type": "code",
   "execution_count": 5,
   "metadata": {},
   "outputs": [
    {
     "data": {
      "text/plain": [
       "dict_items([('a', 'ay'), ('b', 'bee'), ('c', 'see')])"
      ]
     },
     "execution_count": 5,
     "metadata": {},
     "output_type": "execute_result"
    }
   ],
   "source": [
    "# list of tuples\n",
    "key_val_pairs.items()"
   ]
  },
  {
   "cell_type": "code",
   "execution_count": 6,
   "metadata": {},
   "outputs": [
    {
     "data": {
      "text/plain": [
       "{'a': 'ay', 'b': 'bee', 'c': 'see', 'd': 'dee'}"
      ]
     },
     "execution_count": 6,
     "metadata": {},
     "output_type": "execute_result"
    }
   ],
   "source": [
    "# new key assignment or overwrite\n",
    "\n",
    "key_val_pairs['d'] = 'de'\n",
    "key_val_pairs['d'] = 'dee'\n",
    "\n",
    "key_val_pairs"
   ]
  },
  {
   "cell_type": "code",
   "execution_count": 7,
   "metadata": {},
   "outputs": [
    {
     "name": "stdout",
     "output_type": "stream",
     "text": [
      "looping through keys\n",
      "a\n",
      "b\n",
      "c\n",
      "d\n",
      "\n",
      "looping through values\n",
      "ay\n",
      "bee\n",
      "see\n",
      "dee\n",
      "\n",
      "looping through keys and values\n",
      "k: a, v: ay\n",
      "k: b, v: bee\n",
      "k: c, v: see\n",
      "k: d, v: dee\n"
     ]
    }
   ],
   "source": [
    "# iteration\n",
    "\n",
    "print('looping through keys')\n",
    "for k in key_val_pairs:\n",
    "    print(k)\n",
    "\n",
    "print('\\nlooping through values')\n",
    "for v in key_val_pairs.values():\n",
    "    print(v)\n",
    "\n",
    "print('\\nlooping through keys and values')    \n",
    "for k, v in key_val_pairs.items():\n",
    "    print(f'k: {k}, v: {v}')"
   ]
  },
  {
   "cell_type": "code",
   "execution_count": 8,
   "metadata": {},
   "outputs": [
    {
     "ename": "KeyError",
     "evalue": "'f'",
     "output_type": "error",
     "traceback": [
      "\u001b[1;31m---------------------------------------------------------------------------\u001b[0m",
      "\u001b[1;31mKeyError\u001b[0m                                  Traceback (most recent call last)",
      "\u001b[1;32m<ipython-input-8-b8e76b039189>\u001b[0m in \u001b[0;36m<module>\u001b[1;34m\u001b[0m\n\u001b[0;32m      1\u001b[0m \u001b[1;31m# KeyError - occurs when key cannot be found\u001b[0m\u001b[1;33m\u001b[0m\u001b[1;33m\u001b[0m\u001b[1;33m\u001b[0m\u001b[0m\n\u001b[0;32m      2\u001b[0m \u001b[1;31m# see Collections defaultdict or dict.get() for handling this more elegantly\u001b[0m\u001b[1;33m\u001b[0m\u001b[1;33m\u001b[0m\u001b[1;33m\u001b[0m\u001b[0m\n\u001b[1;32m----> 3\u001b[1;33m \u001b[0mkey_val_pairs\u001b[0m\u001b[1;33m[\u001b[0m\u001b[1;34m'f'\u001b[0m\u001b[1;33m]\u001b[0m\u001b[1;33m\u001b[0m\u001b[1;33m\u001b[0m\u001b[0m\n\u001b[0m",
      "\u001b[1;31mKeyError\u001b[0m: 'f'"
     ]
    }
   ],
   "source": [
    "# KeyError - occurs when key cannot be found\n",
    "# see Collections defaultdict or dict.get() for handling this more elegantly\n",
    "key_val_pairs['f']"
   ]
  },
  {
   "cell_type": "code",
   "execution_count": null,
   "metadata": {},
   "outputs": [],
   "source": [
    "# Find 'a'. If 'a' does not exist, return 0 as default.\n",
    "key_val_pairs.get('a', 0)"
   ]
  },
  {
   "cell_type": "code",
   "execution_count": null,
   "metadata": {},
   "outputs": [],
   "source": [
    "key_val_pairs.get('f', 0)"
   ]
  },
  {
   "cell_type": "code",
   "execution_count": null,
   "metadata": {},
   "outputs": [],
   "source": [
    "# you can use dicts for nested data structures in lieu of, say, classes/object-oriented programming\n",
    "# keys must be unique but values can contain diverse types (strings, ints, lists, other dicts)\n",
    "# don't use this code... (demonstrative)\n",
    "\n",
    "def gnaw():\n",
    "    print('Nam Nam Nam')\n",
    "    \n",
    "def lightning():\n",
    "    print('BOOM!')\n",
    "    \n",
    "pika = {'name': 'Pikachu', \n",
    "        'abilities': [\n",
    "            {'name': 'Gnaw', \n",
    "             'points': 10, \n",
    "             'action': gnaw}, \n",
    "            {'name': 'Thunder', \n",
    "             'points': 30, \n",
    "             'action': lightning}],\n",
    "        'hit_points': 40,\n",
    "        'strength': 'lightning',\n",
    "        'weakness': 'ground',\n",
    "        'description': 'Mouse Pokemon. Length 1\\'4\", Weight: 13 lbs.'}\n",
    "\n",
    "print(pika['hit_points'])\n",
    "print(pika['description'])\n",
    "pika['abilities'][0]['action']()\n",
    "pika['abilities'][1]['action']()\n"
   ]
  },
  {
   "cell_type": "code",
   "execution_count": null,
   "metadata": {},
   "outputs": [],
   "source": []
  }
 ],
 "metadata": {
  "kernelspec": {
   "display_name": "Python 3",
   "language": "python",
   "name": "python3"
  },
  "language_info": {
   "codemirror_mode": {
    "name": "ipython",
    "version": 3
   },
   "file_extension": ".py",
   "mimetype": "text/x-python",
   "name": "python",
   "nbconvert_exporter": "python",
   "pygments_lexer": "ipython3",
   "version": "3.7.7"
  }
 },
 "nbformat": 4,
 "nbformat_minor": 4
}
