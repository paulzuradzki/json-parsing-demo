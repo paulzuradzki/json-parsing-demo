{
 "cells": [
  {
   "cell_type": "markdown",
   "metadata": {},
   "source": [
    "# Tips on working with JSON file format for tabular data analysis\n",
    "\n",
    "Outline\n",
    "* pandas json_normalize()\n",
    "* ad hoc approach to generate a list of record tuples and a pandas dataframe"
   ]
  },
  {
   "cell_type": "markdown",
   "metadata": {},
   "source": [
    "### Loading json data"
   ]
  },
  {
   "cell_type": "code",
   "execution_count": 1,
   "metadata": {},
   "outputs": [],
   "source": [
    "import json\n",
    "\n",
    "with open('mems.json') as f:\n",
    "    nested = json.load(f)"
   ]
  },
  {
   "cell_type": "code",
   "execution_count": 2,
   "metadata": {},
   "outputs": [
    {
     "data": {
      "text/plain": [
       "{'00001': {'memberid': '00001',\n",
       "  'name': 'Alice',\n",
       "  'claims': [{'claimnum': 1,\n",
       "    'svcdt': '1/1/2020',\n",
       "    'conditions': [{'1': 'diabetes', '2': 'COPD'}]},\n",
       "   {'claimnum': 2,\n",
       "    'svcdt': '2/15/2020',\n",
       "    'conditions': [{'1': 'runny nose'}],\n",
       "    'diags': [1, 2, 3]}],\n",
       "  'labs': [{'svcdt': '1/1/2020', 'result': 5.5},\n",
       "   {'svcdt': '2/15/2020', 'result': 4.2}]},\n",
       " '00002': {'memberid': '00002',\n",
       "  'name': 'Bob',\n",
       "  'claims': [{'claimnum': 1,\n",
       "    'svcdt': '1/1/2019',\n",
       "    'conditions': [{'1': 'diabetes', '2': 'COPD'}]},\n",
       "   {'claimnum': 2,\n",
       "    'svcdt': '2/15/2019',\n",
       "    'conditions': [{'1': 'cough'}],\n",
       "    'diags': [1, 2, 3]}],\n",
       "  'labs': [{'svcdt': '1/1/2019', 'result': 1.2},\n",
       "   {'svcdt': '2/15/2020', 'result': 3.3}]}}"
      ]
     },
     "execution_count": 2,
     "metadata": {},
     "output_type": "execute_result"
    }
   ],
   "source": [
    "nested"
   ]
  },
  {
   "cell_type": "markdown",
   "metadata": {},
   "source": [
    "### Pretty printing"
   ]
  },
  {
   "cell_type": "code",
   "execution_count": 3,
   "metadata": {},
   "outputs": [
    {
     "name": "stdout",
     "output_type": "stream",
     "text": [
      "{'00001': {'claims': [{'claimnum': 1,\n",
      "                       'conditions': [{'1': 'diabetes', '2': 'COPD'}],\n",
      "                       'svcdt': '1/1/2020'},\n",
      "                      {'claimnum': 2,\n",
      "                       'conditions': [{'1': 'runny nose'}],\n",
      "                       'diags': [1, 2, 3],\n",
      "                       'svcdt': '2/15/2020'}],\n",
      "           'labs': [{'result': 5.5, 'svcdt': '1/1/2020'},\n",
      "                    {'result': 4.2, 'svcdt': '2/15/2020'}],\n",
      "           'memberid': '00001',\n",
      "           'name': 'Alice'},\n",
      " '00002': {'claims': [{'claimnum': 1,\n",
      "                       'conditions': [{'1': 'diabetes', '2': 'COPD'}],\n",
      "                       'svcdt': '1/1/2019'},\n",
      "                      {'claimnum': 2,\n",
      "                       'conditions': [{'1': 'cough'}],\n",
      "                       'diags': [1, 2, 3],\n",
      "                       'svcdt': '2/15/2019'}],\n",
      "           'labs': [{'result': 1.2, 'svcdt': '1/1/2019'},\n",
      "                    {'result': 3.3, 'svcdt': '2/15/2020'}],\n",
      "           'memberid': '00002',\n",
      "           'name': 'Bob'}}\n"
     ]
    }
   ],
   "source": [
    "from pprint import pprint\n",
    "pprint(nested)"
   ]
  },
  {
   "cell_type": "markdown",
   "metadata": {},
   "source": [
    "### Pandas json_normalize()"
   ]
  },
  {
   "cell_type": "code",
   "execution_count": 4,
   "metadata": {},
   "outputs": [
    {
     "name": "stdout",
     "output_type": "stream",
     "text": [
      "{'00001': {'claims': [{'claimnum': 1,\n",
      "                       'conditions': [{'1': 'diabetes', '2': 'COPD'}],\n",
      "                       'svcdt': '1/1/2020'},\n",
      "                      {'claimnum': 2,\n",
      "                       'conditions': [{'1': 'runny nose'}],\n",
      "                       'diags': [1, 2, 3],\n",
      "                       'svcdt': '2/15/2020'}],\n",
      "           'labs': [{'result': 5.5, 'svcdt': '1/1/2020'},\n",
      "                    {'result': 4.2, 'svcdt': '2/15/2020'}],\n",
      "           'memberid': '00001',\n",
      "           'name': 'Alice'},\n",
      " '00002': {'claims': [{'claimnum': 1,\n",
      "                       'conditions': [{'1': 'diabetes', '2': 'COPD'}],\n",
      "                       'svcdt': '1/1/2019'},\n",
      "                      {'claimnum': 2,\n",
      "                       'conditions': [{'1': 'cough'}],\n",
      "                       'diags': [1, 2, 3],\n",
      "                       'svcdt': '2/15/2019'}],\n",
      "           'labs': [{'result': 1.2, 'svcdt': '1/1/2019'},\n",
      "                    {'result': 3.3, 'svcdt': '2/15/2020'}],\n",
      "           'memberid': '00002',\n",
      "           'name': 'Bob'}}\n"
     ]
    },
    {
     "data": {
      "text/html": [
       "<div>\n",
       "<style scoped>\n",
       "    .dataframe tbody tr th:only-of-type {\n",
       "        vertical-align: middle;\n",
       "    }\n",
       "\n",
       "    .dataframe tbody tr th {\n",
       "        vertical-align: top;\n",
       "    }\n",
       "\n",
       "    .dataframe thead th {\n",
       "        text-align: right;\n",
       "    }\n",
       "</style>\n",
       "<table border=\"1\" class=\"dataframe\">\n",
       "  <thead>\n",
       "    <tr style=\"text-align: right;\">\n",
       "      <th></th>\n",
       "      <th>memberid</th>\n",
       "      <th>name</th>\n",
       "      <th>claims</th>\n",
       "      <th>labs</th>\n",
       "    </tr>\n",
       "  </thead>\n",
       "  <tbody>\n",
       "    <tr>\n",
       "      <th>0</th>\n",
       "      <td>00001</td>\n",
       "      <td>Alice</td>\n",
       "      <td>[{'claimnum': 1, 'svcdt': '1/1/2020', 'conditions': [{'1': 'diabetes', '2': 'COPD'}]}, {'claimnum': 2, 'svcdt': '2/15/2020', 'conditions': [{'1': 'runny nose'}], 'diags': [1, 2, 3]}]</td>\n",
       "      <td>[{'svcdt': '1/1/2020', 'result': 5.5}, {'svcdt': '2/15/2020', 'result': 4.2}]</td>\n",
       "    </tr>\n",
       "    <tr>\n",
       "      <th>1</th>\n",
       "      <td>00002</td>\n",
       "      <td>Bob</td>\n",
       "      <td>[{'claimnum': 1, 'svcdt': '1/1/2019', 'conditions': [{'1': 'diabetes', '2': 'COPD'}]}, {'claimnum': 2, 'svcdt': '2/15/2019', 'conditions': [{'1': 'cough'}], 'diags': [1, 2, 3]}]</td>\n",
       "      <td>[{'svcdt': '1/1/2019', 'result': 1.2}, {'svcdt': '2/15/2020', 'result': 3.3}]</td>\n",
       "    </tr>\n",
       "  </tbody>\n",
       "</table>\n",
       "</div>"
      ],
      "text/plain": [
       "  memberid   name  \\\n",
       "0    00001  Alice   \n",
       "1    00002    Bob   \n",
       "\n",
       "                                                                                                                                                                                   claims  \\\n",
       "0  [{'claimnum': 1, 'svcdt': '1/1/2020', 'conditions': [{'1': 'diabetes', '2': 'COPD'}]}, {'claimnum': 2, 'svcdt': '2/15/2020', 'conditions': [{'1': 'runny nose'}], 'diags': [1, 2, 3]}]   \n",
       "1       [{'claimnum': 1, 'svcdt': '1/1/2019', 'conditions': [{'1': 'diabetes', '2': 'COPD'}]}, {'claimnum': 2, 'svcdt': '2/15/2019', 'conditions': [{'1': 'cough'}], 'diags': [1, 2, 3]}]   \n",
       "\n",
       "                                                                            labs  \n",
       "0  [{'svcdt': '1/1/2020', 'result': 5.5}, {'svcdt': '2/15/2020', 'result': 4.2}]  \n",
       "1  [{'svcdt': '1/1/2019', 'result': 1.2}, {'svcdt': '2/15/2020', 'result': 3.3}]  "
      ]
     },
     "execution_count": 4,
     "metadata": {},
     "output_type": "execute_result"
    }
   ],
   "source": [
    "import pandas as pd\n",
    "pd.set_option('max_colwidth', None)\n",
    "\n",
    "pprint(nested)\n",
    "df = pd.json_normalize(nested.values())\n",
    "df"
   ]
  },
  {
   "cell_type": "markdown",
   "metadata": {},
   "source": [
    "Additional parameters\n",
    "\n",
    "```python \n",
    "# trying running help command\n",
    "help(pd.json_normalize)\n",
    "```\n"
   ]
  },
  {
   "cell_type": "code",
   "execution_count": 5,
   "metadata": {
    "scrolled": true
   },
   "outputs": [
    {
     "name": "stdout",
     "output_type": "stream",
     "text": [
      "{'00001': {'claims': [{'claimnum': 1,\n",
      "                       'conditions': [{'1': 'diabetes', '2': 'COPD'}],\n",
      "                       'svcdt': '1/1/2020'},\n",
      "                      {'claimnum': 2,\n",
      "                       'conditions': [{'1': 'runny nose'}],\n",
      "                       'diags': [1, 2, 3],\n",
      "                       'svcdt': '2/15/2020'}],\n",
      "           'labs': [{'result': 5.5, 'svcdt': '1/1/2020'},\n",
      "                    {'result': 4.2, 'svcdt': '2/15/2020'}],\n",
      "           'memberid': '00001',\n",
      "           'name': 'Alice'},\n",
      " '00002': {'claims': [{'claimnum': 1,\n",
      "                       'conditions': [{'1': 'diabetes', '2': 'COPD'}],\n",
      "                       'svcdt': '1/1/2019'},\n",
      "                      {'claimnum': 2,\n",
      "                       'conditions': [{'1': 'cough'}],\n",
      "                       'diags': [1, 2, 3],\n",
      "                       'svcdt': '2/15/2019'}],\n",
      "           'labs': [{'result': 1.2, 'svcdt': '1/1/2019'},\n",
      "                    {'result': 3.3, 'svcdt': '2/15/2020'}],\n",
      "           'memberid': '00002',\n",
      "           'name': 'Bob'}}\n"
     ]
    },
    {
     "data": {
      "text/html": [
       "<div>\n",
       "<style scoped>\n",
       "    .dataframe tbody tr th:only-of-type {\n",
       "        vertical-align: middle;\n",
       "    }\n",
       "\n",
       "    .dataframe tbody tr th {\n",
       "        vertical-align: top;\n",
       "    }\n",
       "\n",
       "    .dataframe thead th {\n",
       "        text-align: right;\n",
       "    }\n",
       "</style>\n",
       "<table border=\"1\" class=\"dataframe\">\n",
       "  <thead>\n",
       "    <tr style=\"text-align: right;\">\n",
       "      <th></th>\n",
       "      <th>claimnum</th>\n",
       "      <th>svcdt</th>\n",
       "      <th>conditions</th>\n",
       "      <th>diags</th>\n",
       "      <th>memberid</th>\n",
       "      <th>name</th>\n",
       "    </tr>\n",
       "  </thead>\n",
       "  <tbody>\n",
       "    <tr>\n",
       "      <th>0</th>\n",
       "      <td>1</td>\n",
       "      <td>1/1/2020</td>\n",
       "      <td>[{'1': 'diabetes', '2': 'COPD'}]</td>\n",
       "      <td>NaN</td>\n",
       "      <td>00001</td>\n",
       "      <td>Alice</td>\n",
       "    </tr>\n",
       "    <tr>\n",
       "      <th>1</th>\n",
       "      <td>2</td>\n",
       "      <td>2/15/2020</td>\n",
       "      <td>[{'1': 'runny nose'}]</td>\n",
       "      <td>[1, 2, 3]</td>\n",
       "      <td>00001</td>\n",
       "      <td>Alice</td>\n",
       "    </tr>\n",
       "    <tr>\n",
       "      <th>2</th>\n",
       "      <td>1</td>\n",
       "      <td>1/1/2019</td>\n",
       "      <td>[{'1': 'diabetes', '2': 'COPD'}]</td>\n",
       "      <td>NaN</td>\n",
       "      <td>00002</td>\n",
       "      <td>Bob</td>\n",
       "    </tr>\n",
       "    <tr>\n",
       "      <th>3</th>\n",
       "      <td>2</td>\n",
       "      <td>2/15/2019</td>\n",
       "      <td>[{'1': 'cough'}]</td>\n",
       "      <td>[1, 2, 3]</td>\n",
       "      <td>00002</td>\n",
       "      <td>Bob</td>\n",
       "    </tr>\n",
       "  </tbody>\n",
       "</table>\n",
       "</div>"
      ],
      "text/plain": [
       "   claimnum      svcdt                        conditions      diags memberid  \\\n",
       "0         1   1/1/2020  [{'1': 'diabetes', '2': 'COPD'}]        NaN    00001   \n",
       "1         2  2/15/2020             [{'1': 'runny nose'}]  [1, 2, 3]    00001   \n",
       "2         1   1/1/2019  [{'1': 'diabetes', '2': 'COPD'}]        NaN    00002   \n",
       "3         2  2/15/2019                  [{'1': 'cough'}]  [1, 2, 3]    00002   \n",
       "\n",
       "    name  \n",
       "0  Alice  \n",
       "1  Alice  \n",
       "2    Bob  \n",
       "3    Bob  "
      ]
     },
     "execution_count": 5,
     "metadata": {},
     "output_type": "execute_result"
    }
   ],
   "source": [
    "pprint(nested)\n",
    "df = pd.json_normalize(nested.values(), record_path=['claims'], meta=['memberid', 'name'])\n",
    "df"
   ]
  },
  {
   "cell_type": "code",
   "execution_count": 6,
   "metadata": {},
   "outputs": [
    {
     "name": "stdout",
     "output_type": "stream",
     "text": [
      "{'00001': {'claims': [{'claimnum': 1,\n",
      "                       'conditions': [{'1': 'diabetes', '2': 'COPD'}],\n",
      "                       'svcdt': '1/1/2020'},\n",
      "                      {'claimnum': 2,\n",
      "                       'conditions': [{'1': 'runny nose'}],\n",
      "                       'diags': [1, 2, 3],\n",
      "                       'svcdt': '2/15/2020'}],\n",
      "           'labs': [{'result': 5.5, 'svcdt': '1/1/2020'},\n",
      "                    {'result': 4.2, 'svcdt': '2/15/2020'}],\n",
      "           'memberid': '00001',\n",
      "           'name': 'Alice'},\n",
      " '00002': {'claims': [{'claimnum': 1,\n",
      "                       'conditions': [{'1': 'diabetes', '2': 'COPD'}],\n",
      "                       'svcdt': '1/1/2019'},\n",
      "                      {'claimnum': 2,\n",
      "                       'conditions': [{'1': 'cough'}],\n",
      "                       'diags': [1, 2, 3],\n",
      "                       'svcdt': '2/15/2019'}],\n",
      "           'labs': [{'result': 1.2, 'svcdt': '1/1/2019'},\n",
      "                    {'result': 3.3, 'svcdt': '2/15/2020'}],\n",
      "           'memberid': '00002',\n",
      "           'name': 'Bob'}}\n"
     ]
    },
    {
     "data": {
      "text/html": [
       "<div>\n",
       "<style scoped>\n",
       "    .dataframe tbody tr th:only-of-type {\n",
       "        vertical-align: middle;\n",
       "    }\n",
       "\n",
       "    .dataframe tbody tr th {\n",
       "        vertical-align: top;\n",
       "    }\n",
       "\n",
       "    .dataframe thead th {\n",
       "        text-align: right;\n",
       "    }\n",
       "</style>\n",
       "<table border=\"1\" class=\"dataframe\">\n",
       "  <thead>\n",
       "    <tr style=\"text-align: right;\">\n",
       "      <th></th>\n",
       "      <th>1</th>\n",
       "      <th>2</th>\n",
       "      <th>memberid</th>\n",
       "      <th>name</th>\n",
       "    </tr>\n",
       "  </thead>\n",
       "  <tbody>\n",
       "    <tr>\n",
       "      <th>0</th>\n",
       "      <td>diabetes</td>\n",
       "      <td>COPD</td>\n",
       "      <td>00001</td>\n",
       "      <td>Alice</td>\n",
       "    </tr>\n",
       "    <tr>\n",
       "      <th>1</th>\n",
       "      <td>runny nose</td>\n",
       "      <td>NaN</td>\n",
       "      <td>00001</td>\n",
       "      <td>Alice</td>\n",
       "    </tr>\n",
       "    <tr>\n",
       "      <th>2</th>\n",
       "      <td>diabetes</td>\n",
       "      <td>COPD</td>\n",
       "      <td>00002</td>\n",
       "      <td>Bob</td>\n",
       "    </tr>\n",
       "    <tr>\n",
       "      <th>3</th>\n",
       "      <td>cough</td>\n",
       "      <td>NaN</td>\n",
       "      <td>00002</td>\n",
       "      <td>Bob</td>\n",
       "    </tr>\n",
       "  </tbody>\n",
       "</table>\n",
       "</div>"
      ],
      "text/plain": [
       "            1     2 memberid   name\n",
       "0    diabetes  COPD    00001  Alice\n",
       "1  runny nose   NaN    00001  Alice\n",
       "2    diabetes  COPD    00002    Bob\n",
       "3       cough   NaN    00002    Bob"
      ]
     },
     "execution_count": 6,
     "metadata": {},
     "output_type": "execute_result"
    }
   ],
   "source": [
    "pprint(nested)\n",
    "df = pd.json_normalize(nested.values(), record_path=['claims', 'conditions'], meta=['memberid', 'name'])\n",
    "df"
   ]
  },
  {
   "cell_type": "code",
   "execution_count": 7,
   "metadata": {},
   "outputs": [
    {
     "name": "stdout",
     "output_type": "stream",
     "text": [
      "{'00001': {'claims': [{'claimnum': 1,\n",
      "                       'conditions': [{'1': 'diabetes', '2': 'COPD'}],\n",
      "                       'svcdt': '1/1/2020'},\n",
      "                      {'claimnum': 2,\n",
      "                       'conditions': [{'1': 'runny nose'}],\n",
      "                       'diags': [1, 2, 3],\n",
      "                       'svcdt': '2/15/2020'}],\n",
      "           'labs': [{'result': 5.5, 'svcdt': '1/1/2020'},\n",
      "                    {'result': 4.2, 'svcdt': '2/15/2020'}],\n",
      "           'memberid': '00001',\n",
      "           'name': 'Alice'},\n",
      " '00002': {'claims': [{'claimnum': 1,\n",
      "                       'conditions': [{'1': 'diabetes', '2': 'COPD'}],\n",
      "                       'svcdt': '1/1/2019'},\n",
      "                      {'claimnum': 2,\n",
      "                       'conditions': [{'1': 'cough'}],\n",
      "                       'diags': [1, 2, 3],\n",
      "                       'svcdt': '2/15/2019'}],\n",
      "           'labs': [{'result': 1.2, 'svcdt': '1/1/2019'},\n",
      "                    {'result': 3.3, 'svcdt': '2/15/2020'}],\n",
      "           'memberid': '00002',\n",
      "           'name': 'Bob'}}\n"
     ]
    },
    {
     "data": {
      "text/html": [
       "<div>\n",
       "<style scoped>\n",
       "    .dataframe tbody tr th:only-of-type {\n",
       "        vertical-align: middle;\n",
       "    }\n",
       "\n",
       "    .dataframe tbody tr th {\n",
       "        vertical-align: top;\n",
       "    }\n",
       "\n",
       "    .dataframe thead th {\n",
       "        text-align: right;\n",
       "    }\n",
       "</style>\n",
       "<table border=\"1\" class=\"dataframe\">\n",
       "  <thead>\n",
       "    <tr style=\"text-align: right;\">\n",
       "      <th></th>\n",
       "      <th>svcdt</th>\n",
       "      <th>result</th>\n",
       "      <th>memberid</th>\n",
       "      <th>name</th>\n",
       "    </tr>\n",
       "  </thead>\n",
       "  <tbody>\n",
       "    <tr>\n",
       "      <th>0</th>\n",
       "      <td>1/1/2020</td>\n",
       "      <td>5.5</td>\n",
       "      <td>00001</td>\n",
       "      <td>Alice</td>\n",
       "    </tr>\n",
       "    <tr>\n",
       "      <th>1</th>\n",
       "      <td>2/15/2020</td>\n",
       "      <td>4.2</td>\n",
       "      <td>00001</td>\n",
       "      <td>Alice</td>\n",
       "    </tr>\n",
       "    <tr>\n",
       "      <th>2</th>\n",
       "      <td>1/1/2019</td>\n",
       "      <td>1.2</td>\n",
       "      <td>00002</td>\n",
       "      <td>Bob</td>\n",
       "    </tr>\n",
       "    <tr>\n",
       "      <th>3</th>\n",
       "      <td>2/15/2020</td>\n",
       "      <td>3.3</td>\n",
       "      <td>00002</td>\n",
       "      <td>Bob</td>\n",
       "    </tr>\n",
       "  </tbody>\n",
       "</table>\n",
       "</div>"
      ],
      "text/plain": [
       "       svcdt  result memberid   name\n",
       "0   1/1/2020     5.5    00001  Alice\n",
       "1  2/15/2020     4.2    00001  Alice\n",
       "2   1/1/2019     1.2    00002    Bob\n",
       "3  2/15/2020     3.3    00002    Bob"
      ]
     },
     "execution_count": 7,
     "metadata": {},
     "output_type": "execute_result"
    }
   ],
   "source": [
    "pprint(nested)\n",
    "df = pd.json_normalize(nested.values(), record_path='labs', meta=['memberid', 'name'])\n",
    "df"
   ]
  },
  {
   "cell_type": "markdown",
   "metadata": {},
   "source": [
    "### Ad Hoc Approach\n",
    "\n",
    "Generate a list of tuples and where each tuple represents a record.\n",
    "From there, you can transform to a pandas dataframe, CSV, etc."
   ]
  },
  {
   "cell_type": "code",
   "execution_count": 8,
   "metadata": {},
   "outputs": [
    {
     "name": "stdout",
     "output_type": "stream",
     "text": [
      "{'00001': {'claims': [{'claimnum': 1,\n",
      "                       'conditions': [{'1': 'diabetes', '2': 'COPD'}],\n",
      "                       'svcdt': '1/1/2020'},\n",
      "                      {'claimnum': 2,\n",
      "                       'conditions': [{'1': 'runny nose'}],\n",
      "                       'diags': [1, 2, 3],\n",
      "                       'svcdt': '2/15/2020'}],\n",
      "           'labs': [{'result': 5.5, 'svcdt': '1/1/2020'},\n",
      "                    {'result': 4.2, 'svcdt': '2/15/2020'}],\n",
      "           'memberid': '00001',\n",
      "           'name': 'Alice'},\n",
      " '00002': {'claims': [{'claimnum': 1,\n",
      "                       'conditions': [{'1': 'diabetes', '2': 'COPD'}],\n",
      "                       'svcdt': '1/1/2019'},\n",
      "                      {'claimnum': 2,\n",
      "                       'conditions': [{'1': 'cough'}],\n",
      "                       'diags': [1, 2, 3],\n",
      "                       'svcdt': '2/15/2019'}],\n",
      "           'labs': [{'result': 1.2, 'svcdt': '1/1/2019'},\n",
      "                    {'result': 3.3, 'svcdt': '2/15/2020'}],\n",
      "           'memberid': '00002',\n",
      "           'name': 'Bob'}}\n"
     ]
    }
   ],
   "source": [
    "pprint(nested)"
   ]
  },
  {
   "cell_type": "code",
   "execution_count": 9,
   "metadata": {},
   "outputs": [],
   "source": [
    "data = []\n",
    "for memberid in nested:\n",
    "    claims = nested[memberid]['claims']\n",
    "    for claim in claims:\n",
    "        claimnum = claim['claimnum']\n",
    "        svcdt = claim['svcdt']\n",
    "        diags = str(claim.get('diags', None))\n",
    "        \n",
    "        record = memberid, claimnum, svcdt, diags\n",
    "        data.append(record)"
   ]
  },
  {
   "cell_type": "code",
   "execution_count": 10,
   "metadata": {},
   "outputs": [
    {
     "data": {
      "text/plain": [
       "[('00001', 1, '1/1/2020', 'None'),\n",
       " ('00001', 2, '2/15/2020', '[1, 2, 3]'),\n",
       " ('00002', 1, '1/1/2019', 'None'),\n",
       " ('00002', 2, '2/15/2019', '[1, 2, 3]')]"
      ]
     },
     "execution_count": 10,
     "metadata": {},
     "output_type": "execute_result"
    }
   ],
   "source": [
    "data"
   ]
  },
  {
   "cell_type": "code",
   "execution_count": 11,
   "metadata": {},
   "outputs": [
    {
     "data": {
      "text/html": [
       "<div>\n",
       "<style scoped>\n",
       "    .dataframe tbody tr th:only-of-type {\n",
       "        vertical-align: middle;\n",
       "    }\n",
       "\n",
       "    .dataframe tbody tr th {\n",
       "        vertical-align: top;\n",
       "    }\n",
       "\n",
       "    .dataframe thead th {\n",
       "        text-align: right;\n",
       "    }\n",
       "</style>\n",
       "<table border=\"1\" class=\"dataframe\">\n",
       "  <thead>\n",
       "    <tr style=\"text-align: right;\">\n",
       "      <th></th>\n",
       "      <th>memberid</th>\n",
       "      <th>claimnum</th>\n",
       "      <th>svcdt</th>\n",
       "      <th>diag_list</th>\n",
       "    </tr>\n",
       "  </thead>\n",
       "  <tbody>\n",
       "    <tr>\n",
       "      <th>0</th>\n",
       "      <td>00001</td>\n",
       "      <td>1</td>\n",
       "      <td>1/1/2020</td>\n",
       "      <td>None</td>\n",
       "    </tr>\n",
       "    <tr>\n",
       "      <th>1</th>\n",
       "      <td>00001</td>\n",
       "      <td>2</td>\n",
       "      <td>2/15/2020</td>\n",
       "      <td>[1, 2, 3]</td>\n",
       "    </tr>\n",
       "    <tr>\n",
       "      <th>2</th>\n",
       "      <td>00002</td>\n",
       "      <td>1</td>\n",
       "      <td>1/1/2019</td>\n",
       "      <td>None</td>\n",
       "    </tr>\n",
       "    <tr>\n",
       "      <th>3</th>\n",
       "      <td>00002</td>\n",
       "      <td>2</td>\n",
       "      <td>2/15/2019</td>\n",
       "      <td>[1, 2, 3]</td>\n",
       "    </tr>\n",
       "  </tbody>\n",
       "</table>\n",
       "</div>"
      ],
      "text/plain": [
       "  memberid  claimnum      svcdt  diag_list\n",
       "0    00001         1   1/1/2020       None\n",
       "1    00001         2  2/15/2020  [1, 2, 3]\n",
       "2    00002         1   1/1/2019       None\n",
       "3    00002         2  2/15/2019  [1, 2, 3]"
      ]
     },
     "execution_count": 11,
     "metadata": {},
     "output_type": "execute_result"
    }
   ],
   "source": [
    "df = pd.DataFrame(data, columns=['memberid', 'claimnum', 'svcdt', 'diag_list'])\n",
    "df"
   ]
  },
  {
   "cell_type": "markdown",
   "metadata": {},
   "source": [
    "# Exercise\n",
    "\n",
    "Analyze your own Facebook data including likes, comments, location data, and offsite activity.\n",
    "\n",
    "If you have a Facebook account, download your FB data sets in a JSON file format. For your privacy, please be very careful with storing or transferring this data set. I suggest trying this on a secure personal machine. \n",
    "\n",
    "See instructions in section: \"Accessing & Downloading Your Information\", \"To download a copy of your Facebook data\"\n",
    "URL: https://www.facebook.com/help/1701730696756992"
   ]
  }
 ],
 "metadata": {
  "kernelspec": {
   "display_name": "Python 3",
   "language": "python",
   "name": "python3"
  },
  "language_info": {
   "codemirror_mode": {
    "name": "ipython",
    "version": 3
   },
   "file_extension": ".py",
   "mimetype": "text/x-python",
   "name": "python",
   "nbconvert_exporter": "python",
   "pygments_lexer": "ipython3",
   "version": "3.7.7"
  }
 },
 "nbformat": 4,
 "nbformat_minor": 4
}
